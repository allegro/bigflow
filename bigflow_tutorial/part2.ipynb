{
 "cells": [
  {
   "cell_type": "markdown",
   "metadata": {},
   "source": [
    "# The BigFlow tutorial part 2\n",
    "\n",
    "### What you will lean in part 2\n",
    "* Automatically generating a Airflow DAG from workflow.\n",
    "* Deploying DAG."
   ]
  },
  {
   "cell_type": "markdown",
   "metadata": {},
   "source": [
    "### Your workflow\n",
    "Lets clean up notebook from part 1."
   ]
  },
  {
   "cell_type": "code",
   "execution_count": null,
   "metadata": {},
   "outputs": [],
   "source": [
    "import bigflow as bf"
   ]
  },
  {
   "cell_type": "code",
   "execution_count": null,
   "metadata": {},
   "outputs": [],
   "source": [
    "PROJECT_ID = ''  # put you own project ID"
   ]
  },
  {
   "cell_type": "code",
   "execution_count": null,
   "metadata": {},
   "outputs": [],
   "source": [
    "dataset = bf.Dataset(\n",
    "    project_id=PROJECT_ID,\n",
    "    dataset_name='transaction_aggregates',\n",
    "    internal_tables=['user_transaction_metrics'],\n",
    "    external_tables={\n",
    "        'transactions': '{}.transactions.transactions'.format(PROJECT_ID)\n",
    "    })"
   ]
  },
  {
   "cell_type": "code",
   "execution_count": null,
   "metadata": {},
   "outputs": [],
   "source": [
    "create_user_transaction_metrics_table = dataset.create_table('''\n",
    "CREATE TABLE IF NOT EXISTS user_transaction_metrics (\n",
    "    user_id STRING,\n",
    "    metric_name STRING,\n",
    "    metric_value STRING,\n",
    "    \n",
    "    partition_timestamp TIMESTAMP)\n",
    "PARTITION BY DATE(partition_timestamp)\n",
    "''')"
   ]
  },
  {
   "cell_type": "code",
   "execution_count": null,
   "metadata": {},
   "outputs": [],
   "source": [
    "write_truncate_user_transaction_value = dataset.write_truncate('user_transaction_metrics', \n",
    "'''\n",
    "SELECT \n",
    "    TIMESTAMP('{dt}') as partition_timestamp,\n",
    "    user_id,\n",
    "    CAST(sum(CAST(transaction_value as FLOAT64)) as string) as metric_value,\n",
    "    'USER_TRANSACTION_VALUE' as metric_name\n",
    "FROM `{transactions}`\n",
    "WHERE DATE(partition_timestamp) = '{dt}'\n",
    "GROUP BY user_id\n",
    "''')"
   ]
  },
  {
   "cell_type": "code",
   "execution_count": null,
   "metadata": {},
   "outputs": [],
   "source": [
    "write_append_user_transaction_count = dataset.write_append('user_transaction_metrics', \n",
    "'''\n",
    "SELECT \n",
    "    TIMESTAMP('{dt}') as partition_timestamp,\n",
    "    user_id,\n",
    "    CAST(count(*) as string) as metric_value,\n",
    "    'USER_TRANSACTION_COUNT' as metric_name\n",
    "FROM `{transactions}`\n",
    "WHERE DATE(partition_timestamp) = '{dt}'\n",
    "GROUP BY user_id\n",
    "''')"
   ]
  },
  {
   "cell_type": "code",
   "execution_count": null,
   "metadata": {},
   "outputs": [],
   "source": [
    "workflow = bf.Workflow(definition=[\n",
    "    create_user_transaction_metrics_table.to_job(),\n",
    "    write_truncate_user_transaction_value.to_job(),\n",
    "    write_append_user_transaction_count.to_job()])"
   ]
  },
  {
   "cell_type": "markdown",
   "metadata": {},
   "source": [
    "### Deployment\n",
    "Now, go to `deploy.ipynb` and run it. Then, go back here."
   ]
  },
  {
   "cell_type": "markdown",
   "metadata": {},
   "source": [
    "### What just happened\n",
    "You generated a ready to deploy DAG. `workflow.zip` is the result. All you need to do is to drag-and-drop `workflow.zip` to DAGs folder (you can find the link to the DAGs folder inside the details of your Composer instance). Generated zip is a standard Airflow DAG (https://airflow.apache.org/concepts.html?highlight=zip#packaged-dags)."
   ]
  },
  {
   "cell_type": "markdown",
   "metadata": {},
   "source": [
    "### More features\n",
    "If you want to learn more, go to part 3."
   ]
  },
  {
   "cell_type": "code",
   "execution_count": null,
   "metadata": {},
   "outputs": [],
   "source": []
  }
 ],
 "metadata": {
  "kernelspec": {
   "display_name": "Python 3",
   "language": "python",
   "name": "python3"
  },
  "language_info": {
   "codemirror_mode": {
    "name": "ipython",
    "version": 3
   },
   "file_extension": ".py",
   "mimetype": "text/x-python",
   "name": "python",
   "nbconvert_exporter": "python",
   "pygments_lexer": "ipython3",
   "version": "3.7.4"
  },
  "pycharm": {
   "stem_cell": {
    "cell_type": "raw",
    "source": [],
    "metadata": {
     "collapsed": false
    }
   }
  }
 },
 "nbformat": 4,
 "nbformat_minor": 4
}